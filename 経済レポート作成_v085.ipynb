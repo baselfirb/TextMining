{
  "cells": [
    {
      "cell_type": "markdown",
      "metadata": {
        "id": "view-in-github",
        "colab_type": "text"
      },
      "source": [
        "<a href=\"https://colab.research.google.com/github/baselfirb/TextMining/blob/master/%E7%B5%8C%E6%B8%88%E3%83%AC%E3%83%9D%E3%83%BC%E3%83%88%E4%BD%9C%E6%88%90_v085.ipynb\" target=\"_parent\"><img src=\"https://colab.research.google.com/assets/colab-badge.svg\" alt=\"Open In Colab\"/></a>"
      ]
    },
    {
      "cell_type": "markdown",
      "id": "c0a97c96-2168-4976-a31f-f03f697928e1",
      "metadata": {
        "id": "c0a97c96-2168-4976-a31f-f03f697928e1"
      },
      "source": [
        "# 使用方法\n",
        "## 1. レポート作成範囲を設定\n",
        "- 開始年月、作成期間を入力する\n",
        "\n",
        "## 2.対象国・地域を指定\n",
        "- JP : 日本\n",
        "- US : アメリカ\n",
        "- EU : EU\n",
        "- AU : オーストラリア"
      ]
    },
    {
      "cell_type": "markdown",
      "id": "fcf854c6-d51c-485a-91fc-8bfa6e36e34d",
      "metadata": {
        "id": "fcf854c6-d51c-485a-91fc-8bfa6e36e34d"
      },
      "source": [
        "# レポート作成　初期設定"
      ]
    },
    {
      "cell_type": "code",
      "execution_count": null,
      "id": "55a2b040-2405-4cdb-811e-3fdd23c79461",
      "metadata": {
        "id": "55a2b040-2405-4cdb-811e-3fdd23c79461"
      },
      "outputs": [],
      "source": [
        "# 開始年月\n",
        "start_ym = \"2025年4月\"\n",
        "\n",
        "# 期間(月数)：開始年月を含む期間指定\n",
        "# 6か月：7, ３か月：4 を入力\n",
        "n_term = 4\n",
        "\n",
        "# 対象国 / 地域\n",
        "area = \"JP\""
      ]
    },
    {
      "cell_type": "markdown",
      "id": "a78a0b77-e6ee-4785-ac63-9e89054d9460",
      "metadata": {
        "id": "a78a0b77-e6ee-4785-ac63-9e89054d9460"
      },
      "source": [
        "# ライブラリインポート"
      ]
    },
    {
      "cell_type": "code",
      "execution_count": 3,
      "id": "9fc645ac-48c5-4789-badf-c23f6edb13c4",
      "metadata": {
        "colab": {
          "base_uri": "https://localhost:8080/",
          "height": 405
        },
        "id": "9fc645ac-48c5-4789-badf-c23f6edb13c4",
        "outputId": "9a5bf94c-fe89-4a5d-b850-e9432791993a"
      },
      "outputs": [
        {
          "output_type": "error",
          "ename": "ModuleNotFoundError",
          "evalue": "No module named 'pdfplumber'",
          "traceback": [
            "\u001b[0;31m---------------------------------------------------------------------------\u001b[0m",
            "\u001b[0;31mModuleNotFoundError\u001b[0m                       Traceback (most recent call last)",
            "\u001b[0;32m/tmp/ipython-input-1575610420.py\u001b[0m in \u001b[0;36m<cell line: 0>\u001b[0;34m()\u001b[0m\n\u001b[1;32m      9\u001b[0m \u001b[0;34m\u001b[0m\u001b[0m\n\u001b[1;32m     10\u001b[0m \u001b[0;32mfrom\u001b[0m \u001b[0mbs4\u001b[0m \u001b[0;32mimport\u001b[0m \u001b[0mBeautifulSoup\u001b[0m\u001b[0;34m\u001b[0m\u001b[0;34m\u001b[0m\u001b[0m\n\u001b[0;32m---> 11\u001b[0;31m \u001b[0;32mimport\u001b[0m \u001b[0mpdfplumber\u001b[0m\u001b[0;34m\u001b[0m\u001b[0;34m\u001b[0m\u001b[0m\n\u001b[0m\u001b[1;32m     12\u001b[0m \u001b[0;32mimport\u001b[0m \u001b[0mlogging\u001b[0m\u001b[0;34m\u001b[0m\u001b[0;34m\u001b[0m\u001b[0m\n\u001b[1;32m     13\u001b[0m \u001b[0;34m\u001b[0m\u001b[0m\n",
            "\u001b[0;31mModuleNotFoundError\u001b[0m: No module named 'pdfplumber'",
            "",
            "\u001b[0;31m---------------------------------------------------------------------------\u001b[0;32m\nNOTE: If your import is failing due to a missing package, you can\nmanually install dependencies using either !pip or !apt.\n\nTo view examples of installing some common dependencies, click the\n\"Open Examples\" button below.\n\u001b[0;31m---------------------------------------------------------------------------\u001b[0m\n"
          ],
          "errorDetails": {
            "actions": [
              {
                "action": "open_url",
                "actionText": "Open Examples",
                "url": "/notebooks/snippets/importing_libraries.ipynb"
              }
            ]
          }
        }
      ],
      "source": [
        "import os\n",
        "import requests\n",
        "import time\n",
        "import pathlib as Path\n",
        "from dotenv import load_dotenv\n",
        "from datetime import datetime, date\n",
        "from dateutil.relativedelta import relativedelta\n",
        "from docx import Document as DocxDocument\n",
        "\n",
        "from bs4 import BeautifulSoup\n",
        "import pdfplumber\n",
        "import logging\n",
        "\n",
        "import tiktoken\n",
        "from langchain_openai import ChatOpenAI\n",
        "\n",
        "from langchain.document_loaders import UnstructuredURLLoader\n",
        "from langchain.text_splitter import RecursiveCharacterTextSplitter\n",
        "\n",
        "from langchain_chroma import Chroma\n",
        "from langchain_openai import OpenAIEmbeddings\n",
        "\n",
        "from langchain.chains.combine_documents import create_stuff_documents_chain\n",
        "from langchain_core.prompts import PromptTemplate\n",
        "from langchain_core.prompts import ChatPromptTemplate, SystemMessagePromptTemplate, HumanMessagePromptTemplate\n",
        "from langchain_core.output_parsers import StrOutputParser\n",
        "from langchain_core.runnables import RunnableLambda\n",
        "from langchain.chains.summarize import load_summarize_chain\n",
        "\n",
        "\n",
        "from langchain.schema import Document\n",
        "from langchain.utilities import GoogleSerperAPIWrapper"
      ]
    },
    {
      "cell_type": "code",
      "metadata": {
        "colab": {
          "base_uri": "https://localhost:8080/"
        },
        "id": "d58ab619",
        "outputId": "8c09bd26-6708-4cdf-a663-823b18c4ed97"
      },
      "source": [
        "%pip install pdfplumber"
      ],
      "id": "d58ab619",
      "execution_count": 4,
      "outputs": [
        {
          "output_type": "stream",
          "name": "stdout",
          "text": [
            "Collecting pdfplumber\n",
            "  Downloading pdfplumber-0.11.7-py3-none-any.whl.metadata (42 kB)\n",
            "\u001b[?25l     \u001b[90m━━━━━━━━━━━━━━━━━━━━━━━━━━━━━━━━━━━━━━━━\u001b[0m \u001b[32m0.0/42.8 kB\u001b[0m \u001b[31m?\u001b[0m eta \u001b[36m-:--:--\u001b[0m\r\u001b[2K     \u001b[90m━━━━━━━━━━━━━━━━━━━━━━━━━━━━━━━━━━━━━━━━\u001b[0m \u001b[32m42.8/42.8 kB\u001b[0m \u001b[31m1.6 MB/s\u001b[0m eta \u001b[36m0:00:00\u001b[0m\n",
            "\u001b[?25hCollecting pdfminer.six==20250506 (from pdfplumber)\n",
            "  Downloading pdfminer_six-20250506-py3-none-any.whl.metadata (4.2 kB)\n",
            "Requirement already satisfied: Pillow>=9.1 in /usr/local/lib/python3.12/dist-packages (from pdfplumber) (11.3.0)\n",
            "Collecting pypdfium2>=4.18.0 (from pdfplumber)\n",
            "  Downloading pypdfium2-4.30.0-py3-none-manylinux_2_17_x86_64.manylinux2014_x86_64.whl.metadata (48 kB)\n",
            "\u001b[2K     \u001b[90m━━━━━━━━━━━━━━━━━━━━━━━━━━━━━━━━━━━━━━━━\u001b[0m \u001b[32m48.5/48.5 kB\u001b[0m \u001b[31m1.9 MB/s\u001b[0m eta \u001b[36m0:00:00\u001b[0m\n",
            "\u001b[?25hRequirement already satisfied: charset-normalizer>=2.0.0 in /usr/local/lib/python3.12/dist-packages (from pdfminer.six==20250506->pdfplumber) (3.4.3)\n",
            "Requirement already satisfied: cryptography>=36.0.0 in /usr/local/lib/python3.12/dist-packages (from pdfminer.six==20250506->pdfplumber) (43.0.3)\n",
            "Requirement already satisfied: cffi>=1.12 in /usr/local/lib/python3.12/dist-packages (from cryptography>=36.0.0->pdfminer.six==20250506->pdfplumber) (1.17.1)\n",
            "Requirement already satisfied: pycparser in /usr/local/lib/python3.12/dist-packages (from cffi>=1.12->cryptography>=36.0.0->pdfminer.six==20250506->pdfplumber) (2.22)\n",
            "Downloading pdfplumber-0.11.7-py3-none-any.whl (60 kB)\n",
            "\u001b[2K   \u001b[90m━━━━━━━━━━━━━━━━━━━━━━━━━━━━━━━━━━━━━━━━\u001b[0m \u001b[32m60.0/60.0 kB\u001b[0m \u001b[31m5.0 MB/s\u001b[0m eta \u001b[36m0:00:00\u001b[0m\n",
            "\u001b[?25hDownloading pdfminer_six-20250506-py3-none-any.whl (5.6 MB)\n",
            "\u001b[2K   \u001b[90m━━━━━━━━━━━━━━━━━━━━━━━━━━━━━━━━━━━━━━━━\u001b[0m \u001b[32m5.6/5.6 MB\u001b[0m \u001b[31m52.0 MB/s\u001b[0m eta \u001b[36m0:00:00\u001b[0m\n",
            "\u001b[?25hDownloading pypdfium2-4.30.0-py3-none-manylinux_2_17_x86_64.manylinux2014_x86_64.whl (2.8 MB)\n",
            "\u001b[2K   \u001b[90m━━━━━━━━━━━━━━━━━━━━━━━━━━━━━━━━━━━━━━━━\u001b[0m \u001b[32m2.8/2.8 MB\u001b[0m \u001b[31m44.8 MB/s\u001b[0m eta \u001b[36m0:00:00\u001b[0m\n",
            "\u001b[?25hInstalling collected packages: pypdfium2, pdfminer.six, pdfplumber\n",
            "Successfully installed pdfminer.six-20250506 pdfplumber-0.11.7 pypdfium2-4.30.0\n"
          ]
        }
      ]
    },
    {
      "cell_type": "markdown",
      "id": "9053f1e5-2e22-404e-9298-2fe4a7fb7f87",
      "metadata": {
        "id": "9053f1e5-2e22-404e-9298-2fe4a7fb7f87"
      },
      "source": [
        "# 変数設定"
      ]
    },
    {
      "cell_type": "markdown",
      "id": "f4175d34-2859-435d-9011-921c4d671808",
      "metadata": {
        "id": "f4175d34-2859-435d-9011-921c4d671808"
      },
      "source": [
        "## 環境変数"
      ]
    },
    {
      "cell_type": "code",
      "execution_count": null,
      "id": "641d7802-d8f8-4e01-bfde-a01d83af92f5",
      "metadata": {
        "id": "641d7802-d8f8-4e01-bfde-a01d83af92f5"
      },
      "outputs": [],
      "source": [
        "# .envファイルの読み込み\n",
        "load_dotenv()\n",
        "\n",
        "# Open AI API\n",
        "OPENAI_API_KEY = os.getenv(\"OPENAI_API_KEY\")\n",
        "\n",
        "# Serper API\n",
        "SERPER_API_KEY = os.getenv(\"SERPER_API_KEY\")\n",
        "\n",
        "# Deepl API\n",
        "DEEPL_API_KEY = os.getenv(\"DEEPL_API_KEY\")  # DeepL APIキーは環境変数から取得\n",
        "\n",
        "# ユーザーエージェント\n",
        "USER_AGENT = os.getenv(\"USER_AGENT\", \"rag-financial-reporter/1.0\")\n",
        "\n",
        "# TPM値\n",
        "TPM_LIMIT = os.getenv(\"OPENAI_TPM_LIMIT\")"
      ]
    },
    {
      "cell_type": "markdown",
      "id": "233c2c8b-14cd-4aaf-af37-49b9f44f9188",
      "metadata": {
        "id": "233c2c8b-14cd-4aaf-af37-49b9f44f9188"
      },
      "source": [
        "## モデル関連"
      ]
    },
    {
      "cell_type": "code",
      "execution_count": null,
      "id": "5f670c93-8121-4352-bc4b-aa9fd95d3d77",
      "metadata": {
        "id": "5f670c93-8121-4352-bc4b-aa9fd95d3d77"
      },
      "outputs": [],
      "source": [
        "# モデル指定\n",
        "model = \"gpt-4o-mini\"\n",
        "\n",
        "# embedding_model\n",
        "embedding_model = \"text-embedding-3-small\"\n",
        "\n",
        "# 最大トークン数\n",
        "max_token = 128000\n",
        "\n",
        "# 抽出するURL数\n",
        "url_num = 10\n",
        "\n",
        "# 検索ドキュメントの最小文字数\n",
        "# 注：指定した文字数に達しない検索結果は採用されない\n",
        "min_docs = 500\n",
        "\n",
        "# チャンクサイズ\n",
        "chunk_sizes = 1000\n",
        "\n",
        "# チャンクのオーバーラップ文字数\n",
        "overlap = 300\n",
        "\n",
        "# 回答の安定性（再現性）\n",
        "temp = 1.0"
      ]
    },
    {
      "cell_type": "markdown",
      "id": "b5f8ad01-a04e-4e3f-9f51-962a226b50f2",
      "metadata": {
        "id": "b5f8ad01-a04e-4e3f-9f51-962a226b50f2"
      },
      "source": [
        "## LLM インスタンス設定"
      ]
    },
    {
      "cell_type": "code",
      "execution_count": null,
      "id": "e8e852f0-3a92-4149-8deb-424b61935207",
      "metadata": {
        "id": "e8e852f0-3a92-4149-8deb-424b61935207"
      },
      "outputs": [],
      "source": [
        "# LLM インスタンス設定\n",
        "llm = ChatOpenAI(model_name=model, temperature=temp)"
      ]
    },
    {
      "cell_type": "markdown",
      "id": "eb303588-2066-4c57-b887-1b538cc32401",
      "metadata": {
        "id": "eb303588-2066-4c57-b887-1b538cc32401"
      },
      "source": [
        "## その他"
      ]
    },
    {
      "cell_type": "code",
      "execution_count": null,
      "id": "f6bc0ab6-79d6-40d3-9bc6-eefcb0438bea",
      "metadata": {
        "id": "f6bc0ab6-79d6-40d3-9bc6-eefcb0438bea"
      },
      "outputs": [],
      "source": [
        "# pdfminer.six のロガーの出力レベルを ERROR に設定（警告や情報を出さない）\n",
        "logging.getLogger(\"pdfminer\").setLevel(logging.ERROR)"
      ]
    },
    {
      "cell_type": "code",
      "execution_count": null,
      "id": "1feebdd4-31c4-4d67-8381-1717347c11bd",
      "metadata": {
        "id": "1feebdd4-31c4-4d67-8381-1717347c11bd"
      },
      "outputs": [],
      "source": [
        "# レポート作成対象の国と中央銀行などの辞書\n",
        "area_dict = {\n",
        "    \"JP\": (\"日本\", \"日本銀行\", \"BOJ\", \"Japan\"),\n",
        "    \"US\": (\"アメリカ\", \"連邦準備制度理事会\", \"FRB FOMC\", \"the US\"),\n",
        "    \"EU\": (\"欧州\", \"欧州中央銀行\", \"ECB\", \"the EU\"),\n",
        "    \"AU\": (\"オーストラリア\", \"オーストラリア準備銀行\", \"RBA\", \"Australia\"),\n",
        "}\n",
        "\n",
        "# 実行日取得\n",
        "today = datetime.now().strftime(\"%Y-%m-%d\")"
      ]
    },
    {
      "cell_type": "markdown",
      "id": "f61746b2-7a39-4285-8330-1931ca10a8da",
      "metadata": {
        "id": "f61746b2-7a39-4285-8330-1931ca10a8da"
      },
      "source": [
        "# レポート作成関数"
      ]
    },
    {
      "cell_type": "markdown",
      "id": "25e24fed-bec3-49d2-a56f-8d7196ccbf7b",
      "metadata": {
        "id": "25e24fed-bec3-49d2-a56f-8d7196ccbf7b"
      },
      "source": [
        "## 年月リスト作成"
      ]
    },
    {
      "cell_type": "code",
      "execution_count": null,
      "id": "07b13bf8-4faf-4ce4-a937-82ca801534a8",
      "metadata": {
        "id": "07b13bf8-4faf-4ce4-a937-82ca801534a8"
      },
      "outputs": [],
      "source": [
        "def get_ym_list(s_ym, n_term):\n",
        "\n",
        "    # 開始年月から n_term 分だけずらしたリストを返す\n",
        "    return sorted([(datetime.strptime(s_ym, \"%Y年%m月\") + relativedelta(months=i)).strftime(\"%Y年%m月\") for i in range(n_term)])"
      ]
    },
    {
      "cell_type": "markdown",
      "id": "8f03ed22-501b-4378-8209-0e138278b920",
      "metadata": {
        "id": "8f03ed22-501b-4378-8209-0e138278b920"
      },
      "source": [
        "## Promt作成"
      ]
    },
    {
      "cell_type": "code",
      "execution_count": null,
      "id": "1b836ed4-d337-484e-9ce6-a83c744f7bb8",
      "metadata": {
        "id": "1b836ed4-d337-484e-9ce6-a83c744f7bb8"
      },
      "outputs": [],
      "source": [
        "def make_prompt(month, area):\n",
        "\n",
        "    # 対象国のマップを取得\n",
        "    name = area_dict.get(area)\n",
        "\n",
        "    # area に対応した prompt を返す\n",
        "    return f\"\"\"\n",
        "以下は{month}の{name[0]}経済に関する月次レポートを作成するための指示です。\n",
        "\n",
        "Step1: {month}における{name[1]}（{name[2]}）の金融政策決定会合の内容とその背景について教えてください。（会合が行われなかった場合は、「会合なし」と記述）\n",
        "Step2: {month}時点での{name[0]}のインフレ率、経済成長率、長期金利などの経済環境を説明してください。\n",
        "Step3: 上記の{name[2]}の決定内容と経済環境を踏まえて、{month}の{name[0]}経済全体を1段落で要約してください。\n",
        "\"\"\""
      ]
    },
    {
      "cell_type": "markdown",
      "id": "2cafc2d8-acd6-44a8-b51a-48ad7daed584",
      "metadata": {
        "id": "2cafc2d8-acd6-44a8-b51a-48ad7daed584"
      },
      "source": [
        "## URL検索クエリ作成"
      ]
    },
    {
      "cell_type": "code",
      "execution_count": null,
      "id": "204e3145-9ed3-477f-aa90-0f223b6424a5",
      "metadata": {
        "id": "204e3145-9ed3-477f-aa90-0f223b6424a5"
      },
      "outputs": [],
      "source": [
        "def make_search_query_jp(month, area):\n",
        "\n",
        "    # 対象国のマップを取得\n",
        "    val = area_dict.get(area)\n",
        "\n",
        "    # area に対応した 検索クエリ を返す\n",
        "    return f\"{month} {val[1]} {val[2]} 金融政策 {val[0]}経済 インフレ CPI\""
      ]
    },
    {
      "cell_type": "code",
      "execution_count": null,
      "id": "2aca19fe-2b52-470f-9824-9fbfedad5c34",
      "metadata": {
        "id": "2aca19fe-2b52-470f-9824-9fbfedad5c34"
      },
      "outputs": [],
      "source": [
        "def make_search_query_en(month, area):\n",
        "\n",
        "    # 対象国のマップを取得\n",
        "    val = area_dict.get(area)\n",
        "\n",
        "    # datetimeに変換（日本語表記から）\n",
        "    month_dt = datetime.strptime(month, \"%Y年%m月\")\n",
        "\n",
        "    # 英語表記でフォーマット\n",
        "    month_en = month_dt.strftime(\"%Y %B\")\n",
        "\n",
        "    # area に対応した 検索クエリ を返す\n",
        "    return f\"{month_en} {val[2]} Monetary Policy Decisions,  {val[3]} Economy,  Inflation, CPI, economic growth rate\""
      ]
    },
    {
      "cell_type": "markdown",
      "id": "7a79dd9b-596b-4a2a-9b89-4b0c07c4d360",
      "metadata": {
        "id": "7a79dd9b-596b-4a2a-9b89-4b0c07c4d360"
      },
      "source": [
        "## Wordで保存"
      ]
    },
    {
      "cell_type": "code",
      "execution_count": null,
      "id": "a79f6376-df13-4cc3-9523-0fb450f3142c",
      "metadata": {
        "id": "a79f6376-df13-4cc3-9523-0fb450f3142c"
      },
      "outputs": [],
      "source": [
        "\n",
        "def save_report_docx(reports, area, chain):\n",
        "\n",
        "    # 月別サマリを初期化\n",
        "    monthly_report =[]\n",
        "\n",
        "    # 対象国のマップを取得\n",
        "    name = area_dict.get(area)\n",
        "\n",
        "    # ファイル名設定\n",
        "    filename = f\"{name[2]}経済レポート_{today}_{chain}_{model}.docx\"\n",
        "\n",
        "    # Word文書の新規作成\n",
        "    doc = DocxDocument()\n",
        "\n",
        "    # 表題 level:0\n",
        "    doc.add_heading(\"経済環境（月次）\", 0)\n",
        "\n",
        "    doc.add_paragraph(f\"日付: {today}\")\n",
        "\n",
        "    #　回答をWord書式で書き込み\n",
        "    for month, monthly_report, urls in reports:\n",
        "\n",
        "        # 表題 level:1\n",
        "        doc.add_heading(f\"対象月：{month}\", level=1)\n",
        "\n",
        "        # 回答本文の書き込み\n",
        "        doc.add_paragraph(monthly_report)\n",
        "\n",
        "        # 表題 level:2\n",
        "        doc.add_heading(\"参考URL一覧\", level=2)\n",
        "\n",
        "        # 参考URLの書き込み\n",
        "        for url in urls:\n",
        "\n",
        "            # 参考URLの書き込み\n",
        "            doc.add_paragraph(url)\n",
        "\n",
        "        # 改ページ設定\n",
        "        doc.add_page_break()\n",
        "\n",
        "    # Wordで保存\n",
        "    doc.save(filename)\n",
        "\n",
        "    print(f\"レポート保存完了: {filename}\")"
      ]
    },
    {
      "cell_type": "markdown",
      "id": "847a60ef-c636-4dcf-8816-c3f499d62681",
      "metadata": {
        "id": "847a60ef-c636-4dcf-8816-c3f499d62681"
      },
      "source": [
        "## URL検索"
      ]
    },
    {
      "cell_type": "code",
      "execution_count": null,
      "id": "45914799-7cf5-45eb-bd89-31d4b2cc4fe6",
      "metadata": {
        "id": "45914799-7cf5-45eb-bd89-31d4b2cc4fe6"
      },
      "outputs": [],
      "source": [
        "def search_url(query_text):\n",
        "\n",
        "    # 'query_text' にヒットするURLを取得\n",
        "    res_url = GoogleSerperAPIWrapper().results(query_text)\n",
        "\n",
        "\n",
        "    return [r[\"link\"] for r in res_url.get('organic', [])[:url_num] if r.get('link')]"
      ]
    },
    {
      "cell_type": "markdown",
      "id": "c12aee81-c157-4f49-94b8-5c3f503a5d89",
      "metadata": {
        "id": "c12aee81-c157-4f49-94b8-5c3f503a5d89"
      },
      "source": [
        "## テキスト抽出"
      ]
    },
    {
      "cell_type": "code",
      "execution_count": null,
      "id": "0d818ef2-2d1d-42d8-b2ec-8a461f9be174",
      "metadata": {
        "id": "0d818ef2-2d1d-42d8-b2ec-8a461f9be174"
      },
      "outputs": [],
      "source": [
        "\n",
        "\n",
        "def text_from_url(url):\n",
        "    try:\n",
        "        # ヘッダー設定＋タイムアウト\n",
        "        res = requests.get(url, headers={\"User-Agent\": USER_AGENT}, timeout=10)\n",
        "\n",
        "        # HTTPエラー検出\n",
        "        res.raise_for_status()\n",
        "\n",
        "        # 文字化け対策\n",
        "        if not res.encoding:\n",
        "\n",
        "            # 明示的なエンコーディングがなければUTF-8に設定\n",
        "            res.encoding = \"utf-8\"\n",
        "\n",
        "        # PDFの場合\n",
        "        if url.lower().endswith(\".pdf\"):\n",
        "\n",
        "            temp_pdf = \"temp.pdf\"\n",
        "\n",
        "            # 一時的に保存\n",
        "            with open(temp_pdf, \"wb\") as f:\n",
        "                f.write(res.content)\n",
        "\n",
        "            text = \"\"\n",
        "\n",
        "            # pdfplumberで読み取り\n",
        "            with pdfplumber.open(temp_pdf) as pdf:\n",
        "\n",
        "                for page in pdf.pages:\n",
        "\n",
        "                    text += page.extract_text() or \"\"\n",
        "\n",
        "            # 不要なファイルは削除\n",
        "            os.remove(temp_pdf)\n",
        "\n",
        "            return Document(page_content=text.strip(), metadata={\"source_url\": url})\n",
        "\n",
        "        # HTMLの場合\n",
        "        else:\n",
        "            soup = BeautifulSoup(res.text, \"html.parser\")\n",
        "            text = soup.get_text(separator=\"\\n\", strip=True)\n",
        "            return Document(page_content=text.strip(), metadata={\"source_url\": url})\n",
        "\n",
        "    except Exception as e:\n",
        "        print(f\"読み込み失敗: {url} -> {e}\")\n"
      ]
    },
    {
      "cell_type": "markdown",
      "id": "15edb5f9-d12c-40c5-bd88-2b141142eb1f",
      "metadata": {
        "id": "15edb5f9-d12c-40c5-bd88-2b141142eb1f"
      },
      "source": [
        "## 最大トークン制限"
      ]
    },
    {
      "cell_type": "code",
      "execution_count": null,
      "id": "20655695-5685-4d0c-9ec5-d3a2f0eabf07",
      "metadata": {
        "id": "20655695-5685-4d0c-9ec5-d3a2f0eabf07"
      },
      "outputs": [],
      "source": [
        "def limit_tokens(documents, max_tokens=max_token, model=model):\n",
        "\n",
        "    \"\"\"\n",
        "    documents : build_docs_from_query関数で分割されたテキスト\n",
        "    \"\"\"\n",
        "\n",
        "    # 指定した model に適合するエンコーダー取得\n",
        "    enc = tiktoken.encoding_for_model(model)\n",
        "\n",
        "    # documents のリスト初期化\n",
        "    limit_docs = []\n",
        "\n",
        "    # トークン数初期化\n",
        "    total_tokens = 0\n",
        "\n",
        "    # 各 documents に対してトークン数を計算し、トークン制限内で documents テキストを追加\n",
        "    for doc in documents:\n",
        "\n",
        "        # 各 documents の テキストをエンコードし、トークン数を取得\n",
        "        tokens = len(enc.encode(doc.page_content))\n",
        "\n",
        "        # トークン制限を超えるまで、テキストを追加\n",
        "        if total_tokens + tokens > max_tokens:\n",
        "\n",
        "            break\n",
        "\n",
        "        # テキストを追加\n",
        "        limit_docs.append(doc)\n",
        "\n",
        "        # トークン数を更新\n",
        "        total_tokens += tokens\n",
        "\n",
        "    print(f\"トークン合計 {total_tokens} / 最大 {max_tokens}\")\n",
        "\n",
        "    # トークン制限内のテキストを返す\n",
        "    return limit_docs"
      ]
    },
    {
      "cell_type": "markdown",
      "id": "2324acaf-7c03-43b0-ab74-6f228762fc47",
      "metadata": {
        "id": "2324acaf-7c03-43b0-ab74-6f228762fc47"
      },
      "source": [
        "## ChromaDBに格納するRAG構築"
      ]
    },
    {
      "cell_type": "code",
      "execution_count": null,
      "id": "da026a75-f468-4315-bb40-b6123a09d154",
      "metadata": {
        "id": "da026a75-f468-4315-bb40-b6123a09d154",
        "outputId": "24e1debd-479d-401f-85d0-dc08bd95a197"
      },
      "outputs": [
        {
          "ename": "SyntaxError",
          "evalue": "invalid syntax. Perhaps you forgot a comma? (2080308613.py, line 19)",
          "output_type": "error",
          "traceback": [
            "\u001b[1;36m  Cell \u001b[1;32mIn[25], line 19\u001b[1;36m\u001b[0m\n\u001b[1;33m    documents_jp = [text_from_url(url) print(url) for url in urls_jp]\u001b[0m\n\u001b[1;37m                    ^\u001b[0m\n\u001b[1;31mSyntaxError\u001b[0m\u001b[1;31m:\u001b[0m invalid syntax. Perhaps you forgot a comma?\n"
          ]
        }
      ],
      "source": [
        "def build_vectorstore_from_query(search_query_jp, search_query_en, persist_dir):\n",
        "\n",
        "    # 日本語のテキストを入れる箱を用意\n",
        "    documents_jp = []\n",
        "\n",
        "    # 英語のテキストを入れる箱を用意\n",
        "    documents_en = []\n",
        "\n",
        "    # 日本語URL検索\n",
        "    urls_jp = search_url(search_query_jp)\n",
        "\n",
        "    # 英語URL検索\n",
        "    urls_en = search_url(search_query_en)\n",
        "\n",
        "    print(f\"日本語 取得URL件数 : {len(urls_jp)}\")\n",
        "    print(f\"英語 取得URL件数 : {len(urls_jp)}\")\n",
        "\n",
        "    # 日本語URL検索結果からテキスト抽出\n",
        "    documents_jp = [text_from_url(url) print(url) for url in urls_jp]\n",
        "    # 英語URL検索結果からテキスト抽出\n",
        "    documents_en = [text_from_url(url) print(url) for url in urls_en]\n",
        "\n",
        "\n",
        "    # 最低文字数以上のテキストを抽出できれば、テキストを追加する\n",
        "    documents_jp = [doc for doc in documents_jp if doc and len(doc.page_content) > 500]\n",
        "    documents_en = [doc for doc in documents_en if doc and len(doc.page_content) > 500]\n",
        "\n",
        "    # テキストがない場合\n",
        "    if not documents_jp and not documents_en:\n",
        "        raise ValueError(\"有効な文書が取得できませんでした。\")\n",
        "\n",
        "\n",
        "    print(\"***** テキスト分割　開始 *****\")\n",
        "    # テキスト分割器\n",
        "    splitter = RecursiveCharacterTextSplitter(\n",
        "        chunk_size=chunk_sizes,\n",
        "        chunk_overlap=overlap,\n",
        "        separators=[\"\\n\\n\", \"\\n\" ,\"。\", \".\" , \"、\", \",\",  \" \", \"\"] # 段落, 改行, 句読点, スペース\n",
        "    )\n",
        "\n",
        "    # 日本語テキストを分割\n",
        "    split_jp = splitter.split_documents(documents_jp)\n",
        "    # 英文テキストを分割\n",
        "    split_en = splitter.split_documents(documents_en)\n",
        "\n",
        "\n",
        "    # 最大トークンまでテキストを保持\n",
        "    doc_jp = limit_tokens(split_jp, max_tokens=max_token)\n",
        "    doc_en = limit_tokens(split_en, max_tokens=max_token)\n",
        "\n",
        "    print(\"***** ベクトル化　開始 *****\")\n",
        "    # テキスト結合\n",
        "    combined_docs = doc_jp + doc_en\n",
        "\n",
        "    # 結合してベクトル化\n",
        "    embedding = OpenAIEmbeddings(model=embedding_model)\n",
        "\n",
        "    # ChromaDBに保存\n",
        "    vectordb = Chroma.from_documents(combined_docs, embedding, persist_directory=persist_dir)\n",
        "\n",
        "    # すべての出典URL\n",
        "    all_urls = [doc.metadata[\"source_url\"] for doc in documents_jp + documents_en if \"source_url\" in doc.metadata]\n",
        "\n",
        "    return vectordb, all_urls\n"
      ]
    },
    {
      "cell_type": "markdown",
      "id": "2cc650ba-492d-4847-b7ef-28c552250813",
      "metadata": {
        "id": "2cc650ba-492d-4847-b7ef-28c552250813"
      },
      "source": [
        "## べクトルDBから回答を生成"
      ]
    },
    {
      "cell_type": "code",
      "execution_count": null,
      "id": "8387e05a-2912-4ec7-96e5-ddf3b8737e45",
      "metadata": {
        "id": "8387e05a-2912-4ec7-96e5-ddf3b8737e45"
      },
      "outputs": [],
      "source": [
        "\n",
        "def answer_from_vectordb_stuff_confirm(query: str, vectordb, llm):\n",
        "\n",
        "    # ドキュメント検索（上位10件）\n",
        "    retriever = vectordb.as_retriever(search_kwargs={\"k\": 10})\n",
        "\n",
        "    # クエリから関連するテキストを抽出\n",
        "    docs = retriever.invoke(query)\n",
        "\n",
        "    # プロンプトを「比較・整合性判断を促す」よう修正\n",
        "    prompt = PromptTemplate.from_template(\n",
        "        \"\"\"以下は複数の情報ソースから得られた抜粋です。\n",
        "\n",
        "{context}\n",
        "\n",
        "これらを比較・検討したうえで、質問に対して最も信頼できる答えを日本語で簡潔に述べてください。\n",
        "情報に矛盾がある場合は、整合性を考慮して、もっとも一貫性のある情報を採用してください。\n",
        "情報が不十分な場合はその旨を明記してください。\n",
        "\n",
        "質問: {question}\n",
        "\"\"\"\n",
        "    )\n",
        "\n",
        "    # stuff型チェーン構築\n",
        "    qa_chain = (\n",
        "        RunnableLambda(lambda docs: {\n",
        "            \"context\": \"\\n\\n\".join([doc.page_content for doc in docs]),\n",
        "            \"question\": query\n",
        "        })\n",
        "        | prompt\n",
        "        | llm\n",
        "        | StrOutputParser()\n",
        "    )\n",
        "\n",
        "    return qa_chain.invoke(docs)\n"
      ]
    },
    {
      "cell_type": "markdown",
      "id": "df514f89-c482-4f56-8c56-472c5426f5e6",
      "metadata": {
        "id": "df514f89-c482-4f56-8c56-472c5426f5e6"
      },
      "source": [
        "### stuff"
      ]
    },
    {
      "cell_type": "code",
      "execution_count": null,
      "id": "81a07192-f38f-4a60-8683-ecf9f421511e",
      "metadata": {
        "id": "81a07192-f38f-4a60-8683-ecf9f421511e"
      },
      "outputs": [],
      "source": [
        "def answer_from_vectordb(query: str, vectordb):\n",
        "\n",
        "    # 上位 n 件の類似文書を取得\n",
        "    retriever = vectordb.as_retriever(search_kwargs={\"k\": 10})\n",
        "\n",
        "    docs = retriever.invoke(query)\n",
        "\n",
        "    # プロンプト（context + question）\n",
        "    prompt = PromptTemplate.from_template(\n",
        "        \"以下の情報に基づいて質問に答えてください。\\n\\n{context}\\n\\n質問: {question}\"\n",
        "    )\n",
        "\n",
        "    # stuffチェーンの構築\n",
        "    qa_chain = (\n",
        "        RunnableLambda(lambda docs: {\n",
        "            \"context\": \"\\n\\n\".join([doc.page_content for doc in docs]),\n",
        "            \"question\": query\n",
        "        })\n",
        "        | prompt\n",
        "        | llm\n",
        "        | StrOutputParser()\n",
        "    )\n",
        "\n",
        "    return qa_chain.invoke(docs)"
      ]
    },
    {
      "cell_type": "markdown",
      "id": "f98d9c2f-5b0e-4d72-b42e-4abcf4cc1fa8",
      "metadata": {
        "id": "f98d9c2f-5b0e-4d72-b42e-4abcf4cc1fa8"
      },
      "source": [
        "### map_reduce"
      ]
    },
    {
      "cell_type": "code",
      "execution_count": null,
      "id": "ebe0746d-cd04-43e7-8003-898e8600acb5",
      "metadata": {
        "id": "ebe0746d-cd04-43e7-8003-898e8600acb5"
      },
      "outputs": [],
      "source": [
        "\n",
        "def answer_from_vectordb_map(query: str, vectordb):\n",
        "\n",
        "    # 上位 n 件の類似文書を取得\n",
        "    retriever = vectordb.as_retriever(search_kwargs={\"k\": 10})\n",
        "\n",
        "    relevant_docs = retriever.invoke(query)\n",
        "\n",
        "    # mapステップ：各文書を要約または質問に回答させる\n",
        "    map_prompt = PromptTemplate.from_template(\n",
        "        \"以下の文書に基づいて、質問に答えてください：\\n\\n{context}\\n\\n質問: {question}\"\n",
        "    )\n",
        "    map_chain = map_prompt | llm | StrOutputParser()\n",
        "\n",
        "    # reduceステップ：複数の回答を統合する\n",
        "    reduce_prompt = PromptTemplate.from_template(\n",
        "        \"以下は複数の文書に基づく回答候補です。これらを統合し、最も適切な回答を作成してください：\\n\\n{context}\\n\\n質問: {question}\"\n",
        "    )\n",
        "    reduce_chain = reduce_prompt | llm | StrOutputParser()\n",
        "\n",
        "    # map-reduceチェーンの構築\n",
        "    qa_chain = (\n",
        "        RunnableLambda(lambda docs: [{\"context\": doc.page_content, \"question\": query} for doc in docs])\n",
        "        | map_chain.map()\n",
        "        | (lambda results: {\"context\": \"\\n\\n\".join(results), \"question\": query})\n",
        "        | reduce_chain\n",
        "    )\n",
        "\n",
        "\n",
        "    return qa_chain.invoke(relevant_docs)\n"
      ]
    },
    {
      "cell_type": "markdown",
      "id": "3f8e10e8-3302-402c-97c3-d6955183b641",
      "metadata": {
        "id": "3f8e10e8-3302-402c-97c3-d6955183b641"
      },
      "source": [
        "### refine"
      ]
    },
    {
      "cell_type": "code",
      "execution_count": null,
      "id": "5ccec002-2e18-42f0-a3c7-1096295d1c35",
      "metadata": {
        "id": "5ccec002-2e18-42f0-a3c7-1096295d1c35"
      },
      "outputs": [],
      "source": [
        "#from langchain.prompts import PromptTemplate\n",
        "#from langchain_core.output_parsers import StrOutputParser\n",
        "#from langchain_openai import ChatOpenAI\n",
        "\n",
        "def answer_from_vectordb_ref(query: str, vectordb):\n",
        "    retriever = vectordb.as_retriever(search_kwargs={\"k\": 10})\n",
        "    docs = retriever.invoke(query)\n",
        "\n",
        "    llm = ChatOpenAI(model_name=model, temperature=temp)\n",
        "\n",
        "    # 初期回答を生成するプロンプト\n",
        "    initial_prompt = PromptTemplate.from_template(\n",
        "        \"以下の文書に基づいて、質問に答えてください。\\n\\n{context}\\n\\n質問: {question}\"\n",
        "    )\n",
        "    initial_chain = initial_prompt | llm | StrOutputParser()\n",
        "\n",
        "    # 追加文書に基づき既存の回答を改善するプロンプト\n",
        "    refine_prompt = PromptTemplate.from_template(\n",
        "        \"これまでの回答:\\n{existing_answer}\\n\\n\"\n",
        "        \"追加の文書:\\n{context}\\n\\n\"\n",
        "        \"この情報を参考に、元の回答を改善してください。\\n\\n質問: {question}\"\n",
        "    )\n",
        "    refine_chain = refine_prompt | llm | StrOutputParser()\n",
        "\n",
        "    # refine処理の実行\n",
        "    answer = initial_chain.invoke({\n",
        "        \"context\": docs[0].page_content,\n",
        "        \"question\": query\n",
        "    })\n",
        "\n",
        "    for doc in docs[1:]:\n",
        "        answer = refine_chain.invoke({\n",
        "            \"existing_answer\": answer,\n",
        "            \"context\": doc.page_content,\n",
        "            \"question\": query,\n",
        "            \"return_intermediate_steps\": True\n",
        "        })\n",
        "\n",
        "    return answer\n"
      ]
    },
    {
      "cell_type": "markdown",
      "id": "58690160-8529-4e22-9508-0ed4508e2735",
      "metadata": {
        "id": "58690160-8529-4e22-9508-0ed4508e2735"
      },
      "source": [
        "# 実行"
      ]
    },
    {
      "cell_type": "markdown",
      "id": "26a61f1e-13e9-4d90-83ff-111fc7b2c54f",
      "metadata": {
        "editable": true,
        "tags": [],
        "id": "26a61f1e-13e9-4d90-83ff-111fc7b2c54f"
      },
      "source": [
        "## レポート作成 stuff"
      ]
    },
    {
      "cell_type": "code",
      "execution_count": null,
      "id": "a298c885-d740-40c3-9fe6-fea142cd5047",
      "metadata": {
        "editable": true,
        "tags": [],
        "id": "a298c885-d740-40c3-9fe6-fea142cd5047",
        "outputId": "d1fd5980-d920-4a1d-ab6b-07f0a01368c0"
      },
      "outputs": [
        {
          "name": "stdout",
          "output_type": "stream",
          "text": [
            "***** 2025年04月 処理開始 *****\n",
            "日本語 取得URL件数 : 10\n",
            "英語 取得URL件数 : 10\n",
            "読み込み失敗: https://www.reuters.com/business/boj-keep-rates-steady-cut-growth-forecasts-2025-04-30/ -> 401 Client Error: HTTP Forbidden for url: https://www.reuters.com/business/boj-keep-rates-steady-cut-growth-forecasts-2025-04-30/\n",
            "読み込み失敗: https://www.imf.org/en/News/Articles/2025/04/01/pr25084-japan-imf-executive-board-concludes-2025-article-iv-consultation-with-japan -> HTTPSConnectionPool(host='www.imf.org', port=443): Read timed out. (read timeout=10)\n",
            "読み込み失敗: https://www.reuters.com/world/japan/japans-core-inflation-accelerates-complicates-bojs-rate-path-2025-04-17/ -> 401 Client Error: HTTP Forbidden for url: https://www.reuters.com/world/japan/japans-core-inflation-accelerates-complicates-bojs-rate-path-2025-04-17/\n",
            "***** テキスト分割　開始 *****\n",
            "トークン合計 118646 / 最大 128000\n",
            "トークン合計 33397 / 最大 128000\n",
            "***** ベクトル化　開始 *****\n",
            "***** 2025年05月 処理開始 *****\n",
            "日本語 取得URL件数 : 10\n",
            "英語 取得URL件数 : 10\n",
            "読み込み失敗: https://www.reuters.com/markets/asia/japans-core-inflation-slows-stays-above-boj-target-keeps-hike-bets-alive-2025-07-17/ -> 401 Client Error: HTTP Forbidden for url: https://www.reuters.com/markets/asia/japans-core-inflation-slows-stays-above-boj-target-keeps-hike-bets-alive-2025-07-17/\n",
            "読み込み失敗: https://eastasiaforum.org/2025/07/19/are-japans-expectations-of-normalisation-inflated/ -> 403 Client Error: Forbidden for url: https://eastasiaforum.org/2025/07/19/are-japans-expectations-of-normalisation-inflated/\n",
            "***** テキスト分割　開始 *****\n",
            "トークン合計 75220 / 最大 128000\n",
            "トークン合計 90907 / 最大 128000\n",
            "***** ベクトル化　開始 *****\n",
            "***** 2025年06月 処理開始 *****\n",
            "日本語 取得URL件数 : 10\n",
            "英語 取得URL件数 : 10\n",
            "読み込み失敗: https://tradingeconomics.com/japan/interest-rate -> HTTPSConnectionPool(host='tradingeconomics.com', port=443): Read timed out. (read timeout=10)\n",
            "読み込み失敗: https://www.reuters.com/markets/asia/japans-core-inflation-slows-stays-above-boj-target-keeps-hike-bets-alive-2025-07-17/ -> 401 Client Error: HTTP Forbidden for url: https://www.reuters.com/markets/asia/japans-core-inflation-slows-stays-above-boj-target-keeps-hike-bets-alive-2025-07-17/\n",
            "読み込み失敗: https://eastasiaforum.org/2025/07/19/are-japans-expectations-of-normalisation-inflated/ -> 403 Client Error: Forbidden for url: https://eastasiaforum.org/2025/07/19/are-japans-expectations-of-normalisation-inflated/\n",
            "読み込み失敗: https://www.reuters.com/business/boj-keep-rates-steady-cut-growth-forecasts-2025-04-30/ -> 401 Client Error: HTTP Forbidden for url: https://www.reuters.com/business/boj-keep-rates-steady-cut-growth-forecasts-2025-04-30/\n",
            "***** テキスト分割　開始 *****\n",
            "トークン合計 60837 / 最大 128000\n",
            "トークン合計 16478 / 最大 128000\n",
            "***** ベクトル化　開始 *****\n",
            "***** 2025年07月 処理開始 *****\n",
            "日本語 取得URL件数 : 10\n",
            "英語 取得URL件数 : 10\n",
            "読み込み失敗: https://www.reuters.com/markets/asia/view-investors-react-boj-decision-keep-rates-steady-2025-07-31/ -> 401 Client Error: HTTP Forbidden for url: https://www.reuters.com/markets/asia/view-investors-react-boj-decision-keep-rates-steady-2025-07-31/\n",
            "読み込み失敗: https://eastasiaforum.org/2025/07/19/are-japans-expectations-of-normalisation-inflated/ -> 403 Client Error: Forbidden for url: https://eastasiaforum.org/2025/07/19/are-japans-expectations-of-normalisation-inflated/\n",
            "読み込み失敗: https://www.reuters.com/markets/asia/japans-core-inflation-slows-stays-above-boj-target-keeps-hike-bets-alive-2025-07-17/ -> 401 Client Error: HTTP Forbidden for url: https://www.reuters.com/markets/asia/japans-core-inflation-slows-stays-above-boj-target-keeps-hike-bets-alive-2025-07-17/\n",
            "読み込み失敗: https://cfi.trade/en/az/blog/economic/bank-of-japans-interest-rate-decision-impact-on-inflation-yen-and-global-markets -> 403 Client Error: Forbidden for url: https://cfi.trade/en/az/blog/economic/bank-of-japans-interest-rate-decision-impact-on-inflation-yen-and-global-markets\n",
            "***** テキスト分割　開始 *****\n",
            "トークン合計 51918 / 最大 128000\n",
            "トークン合計 24083 / 最大 128000\n",
            "***** ベクトル化　開始 *****\n",
            "レポート保存完了: BOJ経済レポート_2025-08-22_stuff_gpt-4o-mini.docx\n"
          ]
        }
      ],
      "source": [
        "# レポート作成機関範囲\n",
        "months = get_ym_list(start_ym, n_term)\n",
        "\n",
        "# 回答本文を格納するリストを初期化\n",
        "reports = []\n",
        "\n",
        "# 対象国のマップを取得\n",
        "name = area_dict.get(area)\n",
        "\n",
        "# 期間分繰り返す\n",
        "for month in months:\n",
        "\n",
        "    print(f\"***** {month} 処理開始 *****\")\n",
        "\n",
        "    # プロンプト作成\n",
        "    query = make_prompt(month, area)\n",
        "\n",
        "    # 検索用クエリ作成\n",
        "    search_query_jp = make_search_query_jp(month, area)\n",
        "\n",
        "    # 検索用クエリ作成\n",
        "    search_query_en = make_search_query_en(month, area)\n",
        "\n",
        "    # chromaDBディレクトリの設定\n",
        "    persist_dir = f\"chroma_{name[2]}_db_{month}\"\n",
        "\n",
        "    #\n",
        "    vectordb, urls = build_vectorstore_from_query(search_query_jp, search_query_en, persist_dir)\n",
        "\n",
        "\n",
        "    result = answer_from_vectordb(query, vectordb)\n",
        "\n",
        "\n",
        "    reports.append((month, result, sorted(set(urls))))\n",
        "\n",
        "\n",
        "save_report_docx(reports, area, chain=\"stuff\")\n"
      ]
    },
    {
      "cell_type": "markdown",
      "id": "99bea539-c1cc-4981-9c52-3b402e91a4a0",
      "metadata": {
        "id": "99bea539-c1cc-4981-9c52-3b402e91a4a0"
      },
      "source": [
        "## レポート作成 map_reduce"
      ]
    },
    {
      "cell_type": "code",
      "execution_count": null,
      "id": "34bf5a94-208c-4a96-a733-610c9a5a5883",
      "metadata": {
        "editable": true,
        "tags": [],
        "id": "34bf5a94-208c-4a96-a733-610c9a5a5883",
        "outputId": "ee2a636e-dc13-4257-cd35-517de9f7cba7"
      },
      "outputs": [
        {
          "name": "stdout",
          "output_type": "stream",
          "text": [
            "***** 2025年04月 処理開始 *****\n",
            "日本語 取得URL件数 : 10\n",
            "英語 取得URL件数 : 10\n",
            "読み込み失敗: https://jp.reuters.com/economy/bank-of-japan/HIK7JCJK3ZIRVC2F32E5HXGZAI-2025-05-27/ -> HTTPSConnectionPool(host='jp.reuters.com', port=443): Read timed out. (read timeout=10)\n",
            "読み込み失敗: https://www.reuters.com/business/boj-keep-rates-steady-cut-growth-forecasts-2025-04-30/ -> 401 Client Error: HTTP Forbidden for url: https://www.reuters.com/business/boj-keep-rates-steady-cut-growth-forecasts-2025-04-30/\n",
            "読み込み失敗: https://tradingeconomics.com/japan/interest-rate -> HTTPSConnectionPool(host='tradingeconomics.com', port=443): Read timed out. (read timeout=10)\n",
            "読み込み失敗: https://www.imf.org/en/News/Articles/2025/04/01/pr25084-japan-imf-executive-board-concludes-2025-article-iv-consultation-with-japan -> HTTPSConnectionPool(host='www.imf.org', port=443): Read timed out. (read timeout=10)\n",
            "読み込み失敗: https://www.reuters.com/world/japan/japans-core-inflation-accelerates-complicates-bojs-rate-path-2025-04-17/ -> 401 Client Error: HTTP Forbidden for url: https://www.reuters.com/world/japan/japans-core-inflation-accelerates-complicates-bojs-rate-path-2025-04-17/\n",
            "***** テキスト分割　開始 *****\n",
            "トークン合計 116161 / 最大 128000\n",
            "トークン合計 28490 / 最大 128000\n",
            "***** ベクトル化　開始 *****\n",
            "***** 2025年05月 処理開始 *****\n",
            "日本語 取得URL件数 : 10\n",
            "英語 取得URL件数 : 10\n",
            "読み込み失敗: https://jp.tradingeconomics.com/japan/tokyo-core-cpi/news/460548 -> HTTPSConnectionPool(host='jp.tradingeconomics.com', port=443): Read timed out. (read timeout=10)\n",
            "読み込み失敗: https://www.reuters.com/markets/asia/japans-core-inflation-slows-stays-above-boj-target-keeps-hike-bets-alive-2025-07-17/ -> 401 Client Error: HTTP Forbidden for url: https://www.reuters.com/markets/asia/japans-core-inflation-slows-stays-above-boj-target-keeps-hike-bets-alive-2025-07-17/\n",
            "読み込み失敗: https://eastasiaforum.org/2025/07/19/are-japans-expectations-of-normalisation-inflated/ -> 403 Client Error: Forbidden for url: https://eastasiaforum.org/2025/07/19/are-japans-expectations-of-normalisation-inflated/\n",
            "***** テキスト分割　開始 *****\n",
            "トークン合計 71312 / 最大 128000\n",
            "トークン合計 90907 / 最大 128000\n",
            "***** ベクトル化　開始 *****\n",
            "***** 2025年06月 処理開始 *****\n",
            "日本語 取得URL件数 : 10\n",
            "英語 取得URL件数 : 10\n",
            "読み込み失敗: https://jp.tradingeconomics.com/japan/core-inflation-rate -> HTTPSConnectionPool(host='jp.tradingeconomics.com', port=443): Read timed out. (read timeout=10)\n",
            "読み込み失敗: https://www.reuters.com/markets/asia/japans-core-inflation-slows-stays-above-boj-target-keeps-hike-bets-alive-2025-07-17/ -> 401 Client Error: HTTP Forbidden for url: https://www.reuters.com/markets/asia/japans-core-inflation-slows-stays-above-boj-target-keeps-hike-bets-alive-2025-07-17/\n",
            "読み込み失敗: https://eastasiaforum.org/2025/07/19/are-japans-expectations-of-normalisation-inflated/ -> 403 Client Error: Forbidden for url: https://eastasiaforum.org/2025/07/19/are-japans-expectations-of-normalisation-inflated/\n",
            "読み込み失敗: https://www.reuters.com/business/boj-keep-rates-steady-cut-growth-forecasts-2025-04-30/ -> 401 Client Error: HTTP Forbidden for url: https://www.reuters.com/business/boj-keep-rates-steady-cut-growth-forecasts-2025-04-30/\n",
            "***** テキスト分割　開始 *****\n",
            "トークン合計 54956 / 最大 128000\n",
            "トークン合計 21407 / 最大 128000\n",
            "***** ベクトル化　開始 *****\n",
            "***** 2025年07月 処理開始 *****\n",
            "日本語 取得URL件数 : 10\n",
            "英語 取得URL件数 : 10\n",
            "読み込み失敗: https://www.imf.org/ja/News/Articles/2025/02/07/mcs-020725-japan-staff-concluding-statement-of-the-2025-article-iv-mission -> HTTPSConnectionPool(host='www.imf.org', port=443): Read timed out. (read timeout=10)\n",
            "読み込み失敗: https://www.reuters.com/markets/asia/view-investors-react-boj-decision-keep-rates-steady-2025-07-31/ -> 401 Client Error: HTTP Forbidden for url: https://www.reuters.com/markets/asia/view-investors-react-boj-decision-keep-rates-steady-2025-07-31/\n",
            "読み込み失敗: https://eastasiaforum.org/2025/07/19/are-japans-expectations-of-normalisation-inflated/ -> 403 Client Error: Forbidden for url: https://eastasiaforum.org/2025/07/19/are-japans-expectations-of-normalisation-inflated/\n",
            "読み込み失敗: https://www.reuters.com/markets/asia/japans-core-inflation-slows-stays-above-boj-target-keeps-hike-bets-alive-2025-07-17/ -> 401 Client Error: HTTP Forbidden for url: https://www.reuters.com/markets/asia/japans-core-inflation-slows-stays-above-boj-target-keeps-hike-bets-alive-2025-07-17/\n",
            "読み込み失敗: https://cfi.trade/en/az/blog/economic/bank-of-japans-interest-rate-decision-impact-on-inflation-yen-and-global-markets -> 403 Client Error: Forbidden for url: https://cfi.trade/en/az/blog/economic/bank-of-japans-interest-rate-decision-impact-on-inflation-yen-and-global-markets\n",
            "***** テキスト分割　開始 *****\n",
            "トークン合計 41037 / 最大 128000\n",
            "トークン合計 24083 / 最大 128000\n",
            "***** ベクトル化　開始 *****\n",
            "レポート保存完了: BOJ経済レポート_2025-08-22_map_reduce_gpt-4o-mini.docx\n"
          ]
        }
      ],
      "source": [
        "# レポート作成機関範囲\n",
        "months = get_ym_list(start_ym, n_term)\n",
        "\n",
        "# 回答本文を格納するリストを初期化\n",
        "reports_map = []\n",
        "\n",
        "# 対象国のマップを取得\n",
        "name = area_dict.get(area)\n",
        "\n",
        "# 期間分繰り返す\n",
        "for month in months:\n",
        "\n",
        "    print(f\"***** {month} 処理開始 *****\")\n",
        "\n",
        "    # プロンプト作成\n",
        "    query = make_prompt(month, area)\n",
        "\n",
        "    # 検索用クエリ作成\n",
        "    search_query_jp = make_search_query_jp(month, area)\n",
        "\n",
        "    # 検索用クエリ作成\n",
        "    search_query_en = make_search_query_en(month, area)\n",
        "\n",
        "    # chromaDBディレクトリの設定\n",
        "    persist_dir = f\"chroma_{name[2]}_db_{month}\"\n",
        "\n",
        "    #\n",
        "    vectordb, urls = build_vectorstore_from_query(search_query_jp, search_query_en, persist_dir)\n",
        "\n",
        "\n",
        "    result_map = answer_from_vectordb_map(query, vectordb)\n",
        "\n",
        "    reports_map.append((month, result_map, sorted(set(urls))))\n",
        "\n",
        "\n",
        "save_report_docx(reports_map, area, chain=\"map_reduce\")\n"
      ]
    },
    {
      "cell_type": "markdown",
      "id": "62802c60-9664-437a-821d-d8cbb9a1f3ff",
      "metadata": {
        "id": "62802c60-9664-437a-821d-d8cbb9a1f3ff"
      },
      "source": [
        "## レポート作成 refine"
      ]
    },
    {
      "cell_type": "code",
      "execution_count": null,
      "id": "5b9ea412-a3f0-484f-b8c1-13b6814335ac",
      "metadata": {
        "editable": true,
        "tags": [],
        "id": "5b9ea412-a3f0-484f-b8c1-13b6814335ac",
        "outputId": "ba418a1b-d079-4ad9-8d5b-b67e71ed5108"
      },
      "outputs": [
        {
          "name": "stdout",
          "output_type": "stream",
          "text": [
            "***** 2025年04月 処理開始 *****\n",
            "日本語 取得URL件数 : 10\n",
            "英語 取得URL件数 : 10\n",
            "読み込み失敗: https://www.reuters.com/business/boj-keep-rates-steady-cut-growth-forecasts-2025-04-30/ -> 401 Client Error: HTTP Forbidden for url: https://www.reuters.com/business/boj-keep-rates-steady-cut-growth-forecasts-2025-04-30/\n",
            "読み込み失敗: https://www.imf.org/en/News/Articles/2025/04/01/pr25084-japan-imf-executive-board-concludes-2025-article-iv-consultation-with-japan -> HTTPSConnectionPool(host='www.imf.org', port=443): Read timed out. (read timeout=10)\n",
            "読み込み失敗: https://www.reuters.com/world/japan/japans-core-inflation-accelerates-complicates-bojs-rate-path-2025-04-17/ -> 401 Client Error: HTTP Forbidden for url: https://www.reuters.com/world/japan/japans-core-inflation-accelerates-complicates-bojs-rate-path-2025-04-17/\n",
            "***** テキスト分割　開始 *****\n",
            "トークン合計 118662 / 最大 128000\n",
            "トークン合計 33419 / 最大 128000\n",
            "***** ベクトル化　開始 *****\n",
            "***** 2025年05月 処理開始 *****\n",
            "日本語 取得URL件数 : 10\n",
            "英語 取得URL件数 : 10\n",
            "読み込み失敗: https://www.reuters.com/markets/asia/japans-core-inflation-slows-stays-above-boj-target-keeps-hike-bets-alive-2025-07-17/ -> 401 Client Error: HTTP Forbidden for url: https://www.reuters.com/markets/asia/japans-core-inflation-slows-stays-above-boj-target-keeps-hike-bets-alive-2025-07-17/\n",
            "読み込み失敗: https://eastasiaforum.org/2025/07/19/are-japans-expectations-of-normalisation-inflated/ -> 403 Client Error: Forbidden for url: https://eastasiaforum.org/2025/07/19/are-japans-expectations-of-normalisation-inflated/\n",
            "***** テキスト分割　開始 *****\n",
            "トークン合計 75220 / 最大 128000\n",
            "トークン合計 90906 / 最大 128000\n",
            "***** ベクトル化　開始 *****\n",
            "***** 2025年06月 処理開始 *****\n",
            "日本語 取得URL件数 : 10\n",
            "英語 取得URL件数 : 10\n",
            "読み込み失敗: https://www.boj.or.jp/mopo/outlook/index.htm -> HTTPSConnectionPool(host='www.boj.or.jp', port=443): Read timed out. (read timeout=10)\n",
            "読み込み失敗: https://www.reuters.com/markets/asia/japans-core-inflation-slows-stays-above-boj-target-keeps-hike-bets-alive-2025-07-17/ -> 401 Client Error: HTTP Forbidden for url: https://www.reuters.com/markets/asia/japans-core-inflation-slows-stays-above-boj-target-keeps-hike-bets-alive-2025-07-17/\n",
            "読み込み失敗: https://eastasiaforum.org/2025/07/19/are-japans-expectations-of-normalisation-inflated/ -> 403 Client Error: Forbidden for url: https://eastasiaforum.org/2025/07/19/are-japans-expectations-of-normalisation-inflated/\n",
            "読み込み失敗: https://www.reuters.com/business/boj-keep-rates-steady-cut-growth-forecasts-2025-04-30/ -> 401 Client Error: HTTP Forbidden for url: https://www.reuters.com/business/boj-keep-rates-steady-cut-growth-forecasts-2025-04-30/\n",
            "***** テキスト分割　開始 *****\n",
            "トークン合計 54956 / 最大 128000\n",
            "トークン合計 21407 / 最大 128000\n",
            "***** ベクトル化　開始 *****\n",
            "***** 2025年07月 処理開始 *****\n",
            "日本語 取得URL件数 : 10\n",
            "英語 取得URL件数 : 10\n",
            "読み込み失敗: https://www.reuters.com/markets/asia/view-investors-react-boj-decision-keep-rates-steady-2025-07-31/ -> 401 Client Error: HTTP Forbidden for url: https://www.reuters.com/markets/asia/view-investors-react-boj-decision-keep-rates-steady-2025-07-31/\n",
            "読み込み失敗: https://eastasiaforum.org/2025/07/19/are-japans-expectations-of-normalisation-inflated/ -> 403 Client Error: Forbidden for url: https://eastasiaforum.org/2025/07/19/are-japans-expectations-of-normalisation-inflated/\n",
            "読み込み失敗: https://www.reuters.com/markets/asia/japans-core-inflation-slows-stays-above-boj-target-keeps-hike-bets-alive-2025-07-17/ -> 401 Client Error: HTTP Forbidden for url: https://www.reuters.com/markets/asia/japans-core-inflation-slows-stays-above-boj-target-keeps-hike-bets-alive-2025-07-17/\n",
            "読み込み失敗: https://cfi.trade/en/az/blog/economic/bank-of-japans-interest-rate-decision-impact-on-inflation-yen-and-global-markets -> 403 Client Error: Forbidden for url: https://cfi.trade/en/az/blog/economic/bank-of-japans-interest-rate-decision-impact-on-inflation-yen-and-global-markets\n",
            "***** テキスト分割　開始 *****\n",
            "トークン合計 55703 / 最大 128000\n",
            "トークン合計 24082 / 最大 128000\n",
            "***** ベクトル化　開始 *****\n",
            "レポート保存完了: BOJ経済レポート_2025-08-22_refine_gpt-4o-mini.docx\n"
          ]
        }
      ],
      "source": [
        "# レポート作成機関範囲\n",
        "months = get_ym_list(start_ym, n_term)\n",
        "\n",
        "# 回答本文を格納するリストを初期化\n",
        "reports_ref = []\n",
        "\n",
        "# 対象国のマップを取得\n",
        "name = area_dict.get(area)\n",
        "\n",
        "# 期間分繰り返す\n",
        "for month in months:\n",
        "\n",
        "    print(f\"***** {month} 処理開始 *****\")\n",
        "\n",
        "    # プロンプト作成\n",
        "    query = make_prompt(month, area)\n",
        "\n",
        "    # 検索用クエリ作成\n",
        "    search_query_jp = make_search_query_jp(month, area)\n",
        "\n",
        "    # 検索用クエリ作成\n",
        "    search_query_en = make_search_query_en(month, area)\n",
        "\n",
        "    # chromaDBディレクトリの設定\n",
        "    persist_dir = f\"chroma_{name[2]}_db_{month}\"\n",
        "\n",
        "    #\n",
        "    vectordb, urls = build_vectorstore_from_query(search_query_jp, search_query_en, persist_dir)\n",
        "\n",
        "\n",
        "    result_ref = answer_from_vectordb_ref(query, vectordb)\n",
        "\n",
        "    reports_ref.append((month, result_ref, sorted(set(urls))))\n",
        "\n",
        "\n",
        "save_report_docx(reports_ref, area, chain=\"refine\")\n"
      ]
    },
    {
      "cell_type": "code",
      "execution_count": null,
      "id": "f85d3061-3757-4130-bc7e-033a6d779501",
      "metadata": {
        "id": "f85d3061-3757-4130-bc7e-033a6d779501"
      },
      "outputs": [],
      "source": []
    }
  ],
  "metadata": {
    "kernelspec": {
      "display_name": "Python 3 (ipykernel)",
      "language": "python",
      "name": "python3"
    },
    "language_info": {
      "codemirror_mode": {
        "name": "ipython",
        "version": 3
      },
      "file_extension": ".py",
      "mimetype": "text/x-python",
      "name": "python",
      "nbconvert_exporter": "python",
      "pygments_lexer": "ipython3",
      "version": "3.12.7"
    },
    "colab": {
      "provenance": [],
      "include_colab_link": true
    }
  },
  "nbformat": 4,
  "nbformat_minor": 5
}